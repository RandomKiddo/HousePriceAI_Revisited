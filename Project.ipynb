{
 "cells": [
  {
   "cell_type": "markdown",
   "id": "659c1ee8",
   "metadata": {},
   "source": [
    "# House Price AI, Revisited\n",
    "\n",
    "This project is adapted from a prior project, [linked here](https://github.com/RandomKiddo/HousePriceAI), where Scikit-Learn was used on a house price dataset<sup>1</sup> to perform regression to predict the house price value.\n",
    "\n",
    "I wish to revisit this project using Tensorflow instead of Scikit-Learn so I have more control over the AI itself. Additionally, the old model had an r^2 value of `0.999996824199374`, but that included house location data. I seek to create a model that does not rely on location data. "
   ]
  },
  {
   "cell_type": "code",
   "execution_count": 892,
   "id": "7e0613e3",
   "metadata": {},
   "outputs": [],
   "source": [
    "import matplotlib.pyplot as plt\n",
    "import numpy as np\n",
    "import pandas as pd\n",
    "import tensorflow as tf"
   ]
  },
  {
   "cell_type": "markdown",
   "id": "eee8ab2c",
   "metadata": {},
   "source": [
    "We read the data into a Pandas DataFrame<sup>1</sup>."
   ]
  },
  {
   "cell_type": "code",
   "execution_count": 893,
   "id": "bd19172c",
   "metadata": {},
   "outputs": [],
   "source": [
    "df = pd.read_csv('data.csv')"
   ]
  },
  {
   "cell_type": "code",
   "execution_count": 894,
   "id": "68fe0dd9",
   "metadata": {},
   "outputs": [
    {
     "data": {
      "text/plain": [
       "date              object\n",
       "price            float64\n",
       "bedrooms         float64\n",
       "bathrooms        float64\n",
       "sqft_living        int64\n",
       "sqft_lot           int64\n",
       "floors           float64\n",
       "waterfront         int64\n",
       "view               int64\n",
       "condition          int64\n",
       "sqft_above         int64\n",
       "sqft_basement      int64\n",
       "yr_built           int64\n",
       "yr_renovated       int64\n",
       "street            object\n",
       "city              object\n",
       "statezip          object\n",
       "country           object\n",
       "dtype: object"
      ]
     },
     "execution_count": 894,
     "metadata": {},
     "output_type": "execute_result"
    }
   ],
   "source": [
    "df.dtypes"
   ]
  },
  {
   "cell_type": "markdown",
   "id": "867e9553",
   "metadata": {},
   "source": [
    "We see that the only columns that aren't numbers are the data, street, city, statezip, and country columns. Since we don't wish to use location data, and since the date isn't important for our price regression, we can drop all of those columns. In the other model, we enumerated the location data instead. We then manually assert that there are no other columns that aren't `float64` or `int64`."
   ]
  },
  {
   "cell_type": "code",
   "execution_count": 895,
   "id": "aafc419a",
   "metadata": {},
   "outputs": [],
   "source": [
    "df = df.drop(['date', 'street', 'city', 'statezip', 'country'], axis=1)"
   ]
  },
  {
   "cell_type": "code",
   "execution_count": 896,
   "id": "f433d7da",
   "metadata": {},
   "outputs": [
    {
     "data": {
      "text/plain": [
       "price            float64\n",
       "bedrooms         float64\n",
       "bathrooms        float64\n",
       "sqft_living        int64\n",
       "sqft_lot           int64\n",
       "floors           float64\n",
       "waterfront         int64\n",
       "view               int64\n",
       "condition          int64\n",
       "sqft_above         int64\n",
       "sqft_basement      int64\n",
       "yr_built           int64\n",
       "yr_renovated       int64\n",
       "dtype: object"
      ]
     },
     "execution_count": 896,
     "metadata": {},
     "output_type": "execute_result"
    }
   ],
   "source": [
    "df.dtypes"
   ]
  },
  {
   "cell_type": "code",
   "execution_count": 897,
   "id": "30943272",
   "metadata": {},
   "outputs": [
    {
     "data": {
      "text/html": [
       "<div>\n",
       "<style scoped>\n",
       "    .dataframe tbody tr th:only-of-type {\n",
       "        vertical-align: middle;\n",
       "    }\n",
       "\n",
       "    .dataframe tbody tr th {\n",
       "        vertical-align: top;\n",
       "    }\n",
       "\n",
       "    .dataframe thead th {\n",
       "        text-align: right;\n",
       "    }\n",
       "</style>\n",
       "<table border=\"1\" class=\"dataframe\">\n",
       "  <thead>\n",
       "    <tr style=\"text-align: right;\">\n",
       "      <th></th>\n",
       "      <th>price</th>\n",
       "      <th>bedrooms</th>\n",
       "      <th>bathrooms</th>\n",
       "      <th>sqft_living</th>\n",
       "      <th>sqft_lot</th>\n",
       "      <th>floors</th>\n",
       "      <th>waterfront</th>\n",
       "      <th>view</th>\n",
       "      <th>condition</th>\n",
       "      <th>sqft_above</th>\n",
       "      <th>sqft_basement</th>\n",
       "      <th>yr_built</th>\n",
       "      <th>yr_renovated</th>\n",
       "    </tr>\n",
       "  </thead>\n",
       "  <tbody>\n",
       "    <tr>\n",
       "      <th>0</th>\n",
       "      <td>313000.0</td>\n",
       "      <td>3.0</td>\n",
       "      <td>1.50</td>\n",
       "      <td>1340</td>\n",
       "      <td>7912</td>\n",
       "      <td>1.5</td>\n",
       "      <td>0</td>\n",
       "      <td>0</td>\n",
       "      <td>3</td>\n",
       "      <td>1340</td>\n",
       "      <td>0</td>\n",
       "      <td>1955</td>\n",
       "      <td>2005</td>\n",
       "    </tr>\n",
       "    <tr>\n",
       "      <th>1</th>\n",
       "      <td>2384000.0</td>\n",
       "      <td>5.0</td>\n",
       "      <td>2.50</td>\n",
       "      <td>3650</td>\n",
       "      <td>9050</td>\n",
       "      <td>2.0</td>\n",
       "      <td>0</td>\n",
       "      <td>4</td>\n",
       "      <td>5</td>\n",
       "      <td>3370</td>\n",
       "      <td>280</td>\n",
       "      <td>1921</td>\n",
       "      <td>0</td>\n",
       "    </tr>\n",
       "    <tr>\n",
       "      <th>2</th>\n",
       "      <td>342000.0</td>\n",
       "      <td>3.0</td>\n",
       "      <td>2.00</td>\n",
       "      <td>1930</td>\n",
       "      <td>11947</td>\n",
       "      <td>1.0</td>\n",
       "      <td>0</td>\n",
       "      <td>0</td>\n",
       "      <td>4</td>\n",
       "      <td>1930</td>\n",
       "      <td>0</td>\n",
       "      <td>1966</td>\n",
       "      <td>0</td>\n",
       "    </tr>\n",
       "    <tr>\n",
       "      <th>3</th>\n",
       "      <td>420000.0</td>\n",
       "      <td>3.0</td>\n",
       "      <td>2.25</td>\n",
       "      <td>2000</td>\n",
       "      <td>8030</td>\n",
       "      <td>1.0</td>\n",
       "      <td>0</td>\n",
       "      <td>0</td>\n",
       "      <td>4</td>\n",
       "      <td>1000</td>\n",
       "      <td>1000</td>\n",
       "      <td>1963</td>\n",
       "      <td>0</td>\n",
       "    </tr>\n",
       "    <tr>\n",
       "      <th>4</th>\n",
       "      <td>550000.0</td>\n",
       "      <td>4.0</td>\n",
       "      <td>2.50</td>\n",
       "      <td>1940</td>\n",
       "      <td>10500</td>\n",
       "      <td>1.0</td>\n",
       "      <td>0</td>\n",
       "      <td>0</td>\n",
       "      <td>4</td>\n",
       "      <td>1140</td>\n",
       "      <td>800</td>\n",
       "      <td>1976</td>\n",
       "      <td>1992</td>\n",
       "    </tr>\n",
       "  </tbody>\n",
       "</table>\n",
       "</div>"
      ],
      "text/plain": [
       "       price  bedrooms  bathrooms  sqft_living  sqft_lot  floors  waterfront  \\\n",
       "0   313000.0       3.0       1.50         1340      7912     1.5           0   \n",
       "1  2384000.0       5.0       2.50         3650      9050     2.0           0   \n",
       "2   342000.0       3.0       2.00         1930     11947     1.0           0   \n",
       "3   420000.0       3.0       2.25         2000      8030     1.0           0   \n",
       "4   550000.0       4.0       2.50         1940     10500     1.0           0   \n",
       "\n",
       "   view  condition  sqft_above  sqft_basement  yr_built  yr_renovated  \n",
       "0     0          3        1340              0      1955          2005  \n",
       "1     4          5        3370            280      1921             0  \n",
       "2     0          4        1930              0      1966             0  \n",
       "3     0          4        1000           1000      1963             0  \n",
       "4     0          4        1140            800      1976          1992  "
      ]
     },
     "execution_count": 897,
     "metadata": {},
     "output_type": "execute_result"
    }
   ],
   "source": [
    "df.head()"
   ]
  },
  {
   "cell_type": "markdown",
   "id": "672b7734",
   "metadata": {},
   "source": [
    "We then check for any null values. We see that there are none, but we attempt to drop those values anyway (just in case)."
   ]
  },
  {
   "cell_type": "code",
   "execution_count": 898,
   "id": "d0aeff69",
   "metadata": {},
   "outputs": [
    {
     "data": {
      "text/plain": [
       "price            0\n",
       "bedrooms         0\n",
       "bathrooms        0\n",
       "sqft_living      0\n",
       "sqft_lot         0\n",
       "floors           0\n",
       "waterfront       0\n",
       "view             0\n",
       "condition        0\n",
       "sqft_above       0\n",
       "sqft_basement    0\n",
       "yr_built         0\n",
       "yr_renovated     0\n",
       "dtype: int64"
      ]
     },
     "execution_count": 898,
     "metadata": {},
     "output_type": "execute_result"
    }
   ],
   "source": [
    "df.isna().sum()"
   ]
  },
  {
   "cell_type": "code",
   "execution_count": 899,
   "id": "bef7a849",
   "metadata": {},
   "outputs": [],
   "source": [
    "df = df.dropna()"
   ]
  },
  {
   "cell_type": "markdown",
   "id": "b51dab8a",
   "metadata": {},
   "source": [
    "We then split the data into train and test sets, with 80% bein in the training set."
   ]
  },
  {
   "cell_type": "code",
   "execution_count": 900,
   "id": "205fa4fe",
   "metadata": {},
   "outputs": [],
   "source": [
    "train_df = df.sample(frac=0.8, random_state=0)\n",
    "test_df = df.drop(train_df.index)"
   ]
  },
  {
   "cell_type": "markdown",
   "id": "4d51b3c5",
   "metadata": {},
   "source": [
    "We can describe the training dataset with different metrics like the mean, std, and other values."
   ]
  },
  {
   "cell_type": "code",
   "execution_count": 901,
   "id": "13a3f451",
   "metadata": {},
   "outputs": [
    {
     "data": {
      "text/html": [
       "<div>\n",
       "<style scoped>\n",
       "    .dataframe tbody tr th:only-of-type {\n",
       "        vertical-align: middle;\n",
       "    }\n",
       "\n",
       "    .dataframe tbody tr th {\n",
       "        vertical-align: top;\n",
       "    }\n",
       "\n",
       "    .dataframe thead th {\n",
       "        text-align: right;\n",
       "    }\n",
       "</style>\n",
       "<table border=\"1\" class=\"dataframe\">\n",
       "  <thead>\n",
       "    <tr style=\"text-align: right;\">\n",
       "      <th></th>\n",
       "      <th>count</th>\n",
       "      <th>mean</th>\n",
       "      <th>std</th>\n",
       "      <th>min</th>\n",
       "      <th>25%</th>\n",
       "      <th>50%</th>\n",
       "      <th>75%</th>\n",
       "      <th>max</th>\n",
       "    </tr>\n",
       "  </thead>\n",
       "  <tbody>\n",
       "    <tr>\n",
       "      <th>price</th>\n",
       "      <td>3680.0</td>\n",
       "      <td>552674.649108</td>\n",
       "      <td>593696.508031</td>\n",
       "      <td>0.0</td>\n",
       "      <td>322875.00</td>\n",
       "      <td>465000.00</td>\n",
       "      <td>657025.0</td>\n",
       "      <td>26590000.0</td>\n",
       "    </tr>\n",
       "    <tr>\n",
       "      <th>bedrooms</th>\n",
       "      <td>3680.0</td>\n",
       "      <td>3.396467</td>\n",
       "      <td>0.911488</td>\n",
       "      <td>0.0</td>\n",
       "      <td>3.00</td>\n",
       "      <td>3.00</td>\n",
       "      <td>4.0</td>\n",
       "      <td>9.0</td>\n",
       "    </tr>\n",
       "    <tr>\n",
       "      <th>bathrooms</th>\n",
       "      <td>3680.0</td>\n",
       "      <td>2.162840</td>\n",
       "      <td>0.784678</td>\n",
       "      <td>0.0</td>\n",
       "      <td>1.75</td>\n",
       "      <td>2.25</td>\n",
       "      <td>2.5</td>\n",
       "      <td>8.0</td>\n",
       "    </tr>\n",
       "    <tr>\n",
       "      <th>sqft_living</th>\n",
       "      <td>3680.0</td>\n",
       "      <td>2142.219837</td>\n",
       "      <td>966.077603</td>\n",
       "      <td>380.0</td>\n",
       "      <td>1460.00</td>\n",
       "      <td>1980.00</td>\n",
       "      <td>2620.0</td>\n",
       "      <td>13540.0</td>\n",
       "    </tr>\n",
       "    <tr>\n",
       "      <th>sqft_lot</th>\n",
       "      <td>3680.0</td>\n",
       "      <td>15220.664402</td>\n",
       "      <td>37480.055461</td>\n",
       "      <td>638.0</td>\n",
       "      <td>5004.50</td>\n",
       "      <td>7700.00</td>\n",
       "      <td>11235.5</td>\n",
       "      <td>1074218.0</td>\n",
       "    </tr>\n",
       "    <tr>\n",
       "      <th>floors</th>\n",
       "      <td>3680.0</td>\n",
       "      <td>1.515353</td>\n",
       "      <td>0.534456</td>\n",
       "      <td>1.0</td>\n",
       "      <td>1.00</td>\n",
       "      <td>1.50</td>\n",
       "      <td>2.0</td>\n",
       "      <td>3.5</td>\n",
       "    </tr>\n",
       "    <tr>\n",
       "      <th>waterfront</th>\n",
       "      <td>3680.0</td>\n",
       "      <td>0.007880</td>\n",
       "      <td>0.088433</td>\n",
       "      <td>0.0</td>\n",
       "      <td>0.00</td>\n",
       "      <td>0.00</td>\n",
       "      <td>0.0</td>\n",
       "      <td>1.0</td>\n",
       "    </tr>\n",
       "    <tr>\n",
       "      <th>view</th>\n",
       "      <td>3680.0</td>\n",
       "      <td>0.235326</td>\n",
       "      <td>0.768751</td>\n",
       "      <td>0.0</td>\n",
       "      <td>0.00</td>\n",
       "      <td>0.00</td>\n",
       "      <td>0.0</td>\n",
       "      <td>4.0</td>\n",
       "    </tr>\n",
       "    <tr>\n",
       "      <th>condition</th>\n",
       "      <td>3680.0</td>\n",
       "      <td>3.447554</td>\n",
       "      <td>0.671697</td>\n",
       "      <td>1.0</td>\n",
       "      <td>3.00</td>\n",
       "      <td>3.00</td>\n",
       "      <td>4.0</td>\n",
       "      <td>5.0</td>\n",
       "    </tr>\n",
       "    <tr>\n",
       "      <th>sqft_above</th>\n",
       "      <td>3680.0</td>\n",
       "      <td>1836.182065</td>\n",
       "      <td>869.016072</td>\n",
       "      <td>380.0</td>\n",
       "      <td>1190.00</td>\n",
       "      <td>1600.00</td>\n",
       "      <td>2320.0</td>\n",
       "      <td>9410.0</td>\n",
       "    </tr>\n",
       "    <tr>\n",
       "      <th>sqft_basement</th>\n",
       "      <td>3680.0</td>\n",
       "      <td>306.037772</td>\n",
       "      <td>461.328536</td>\n",
       "      <td>0.0</td>\n",
       "      <td>0.00</td>\n",
       "      <td>0.00</td>\n",
       "      <td>600.0</td>\n",
       "      <td>4820.0</td>\n",
       "    </tr>\n",
       "    <tr>\n",
       "      <th>yr_built</th>\n",
       "      <td>3680.0</td>\n",
       "      <td>1971.001902</td>\n",
       "      <td>29.667987</td>\n",
       "      <td>1900.0</td>\n",
       "      <td>1951.00</td>\n",
       "      <td>1976.00</td>\n",
       "      <td>1997.0</td>\n",
       "      <td>2014.0</td>\n",
       "    </tr>\n",
       "    <tr>\n",
       "      <th>yr_renovated</th>\n",
       "      <td>3680.0</td>\n",
       "      <td>800.618478</td>\n",
       "      <td>978.006312</td>\n",
       "      <td>0.0</td>\n",
       "      <td>0.00</td>\n",
       "      <td>0.00</td>\n",
       "      <td>1999.0</td>\n",
       "      <td>2014.0</td>\n",
       "    </tr>\n",
       "  </tbody>\n",
       "</table>\n",
       "</div>"
      ],
      "text/plain": [
       "                count           mean            std     min        25%  \\\n",
       "price          3680.0  552674.649108  593696.508031     0.0  322875.00   \n",
       "bedrooms       3680.0       3.396467       0.911488     0.0       3.00   \n",
       "bathrooms      3680.0       2.162840       0.784678     0.0       1.75   \n",
       "sqft_living    3680.0    2142.219837     966.077603   380.0    1460.00   \n",
       "sqft_lot       3680.0   15220.664402   37480.055461   638.0    5004.50   \n",
       "floors         3680.0       1.515353       0.534456     1.0       1.00   \n",
       "waterfront     3680.0       0.007880       0.088433     0.0       0.00   \n",
       "view           3680.0       0.235326       0.768751     0.0       0.00   \n",
       "condition      3680.0       3.447554       0.671697     1.0       3.00   \n",
       "sqft_above     3680.0    1836.182065     869.016072   380.0    1190.00   \n",
       "sqft_basement  3680.0     306.037772     461.328536     0.0       0.00   \n",
       "yr_built       3680.0    1971.001902      29.667987  1900.0    1951.00   \n",
       "yr_renovated   3680.0     800.618478     978.006312     0.0       0.00   \n",
       "\n",
       "                     50%       75%         max  \n",
       "price          465000.00  657025.0  26590000.0  \n",
       "bedrooms            3.00       4.0         9.0  \n",
       "bathrooms           2.25       2.5         8.0  \n",
       "sqft_living      1980.00    2620.0     13540.0  \n",
       "sqft_lot         7700.00   11235.5   1074218.0  \n",
       "floors              1.50       2.0         3.5  \n",
       "waterfront          0.00       0.0         1.0  \n",
       "view                0.00       0.0         4.0  \n",
       "condition           3.00       4.0         5.0  \n",
       "sqft_above       1600.00    2320.0      9410.0  \n",
       "sqft_basement       0.00     600.0      4820.0  \n",
       "yr_built         1976.00    1997.0      2014.0  \n",
       "yr_renovated        0.00    1999.0      2014.0  "
      ]
     },
     "execution_count": 901,
     "metadata": {},
     "output_type": "execute_result"
    }
   ],
   "source": [
    "train_df.describe().transpose()"
   ]
  },
  {
   "cell_type": "markdown",
   "id": "c50c38ad",
   "metadata": {},
   "source": [
    "We then split the train and test datasets into the features and the labels, where the labels is the price column (what we wish to predict)."
   ]
  },
  {
   "cell_type": "code",
   "execution_count": 902,
   "id": "7fedb884",
   "metadata": {},
   "outputs": [],
   "source": [
    "train_features = train_df.copy()\n",
    "test_features = test_df.copy()\n",
    "train_labels = train_df.pop('price')\n",
    "test_labels = test_df.pop('price')"
   ]
  },
  {
   "cell_type": "code",
   "execution_count": 903,
   "id": "876111d1",
   "metadata": {},
   "outputs": [
    {
     "data": {
      "text/html": [
       "<div>\n",
       "<style scoped>\n",
       "    .dataframe tbody tr th:only-of-type {\n",
       "        vertical-align: middle;\n",
       "    }\n",
       "\n",
       "    .dataframe tbody tr th {\n",
       "        vertical-align: top;\n",
       "    }\n",
       "\n",
       "    .dataframe thead th {\n",
       "        text-align: right;\n",
       "    }\n",
       "</style>\n",
       "<table border=\"1\" class=\"dataframe\">\n",
       "  <thead>\n",
       "    <tr style=\"text-align: right;\">\n",
       "      <th></th>\n",
       "      <th>mean</th>\n",
       "      <th>std</th>\n",
       "    </tr>\n",
       "  </thead>\n",
       "  <tbody>\n",
       "    <tr>\n",
       "      <th>bedrooms</th>\n",
       "      <td>3.396467</td>\n",
       "      <td>0.911488</td>\n",
       "    </tr>\n",
       "    <tr>\n",
       "      <th>bathrooms</th>\n",
       "      <td>2.162840</td>\n",
       "      <td>0.784678</td>\n",
       "    </tr>\n",
       "    <tr>\n",
       "      <th>sqft_living</th>\n",
       "      <td>2142.219837</td>\n",
       "      <td>966.077603</td>\n",
       "    </tr>\n",
       "    <tr>\n",
       "      <th>sqft_lot</th>\n",
       "      <td>15220.664402</td>\n",
       "      <td>37480.055461</td>\n",
       "    </tr>\n",
       "    <tr>\n",
       "      <th>floors</th>\n",
       "      <td>1.515353</td>\n",
       "      <td>0.534456</td>\n",
       "    </tr>\n",
       "    <tr>\n",
       "      <th>waterfront</th>\n",
       "      <td>0.007880</td>\n",
       "      <td>0.088433</td>\n",
       "    </tr>\n",
       "    <tr>\n",
       "      <th>view</th>\n",
       "      <td>0.235326</td>\n",
       "      <td>0.768751</td>\n",
       "    </tr>\n",
       "    <tr>\n",
       "      <th>condition</th>\n",
       "      <td>3.447554</td>\n",
       "      <td>0.671697</td>\n",
       "    </tr>\n",
       "    <tr>\n",
       "      <th>sqft_above</th>\n",
       "      <td>1836.182065</td>\n",
       "      <td>869.016072</td>\n",
       "    </tr>\n",
       "    <tr>\n",
       "      <th>sqft_basement</th>\n",
       "      <td>306.037772</td>\n",
       "      <td>461.328536</td>\n",
       "    </tr>\n",
       "    <tr>\n",
       "      <th>yr_built</th>\n",
       "      <td>1971.001902</td>\n",
       "      <td>29.667987</td>\n",
       "    </tr>\n",
       "    <tr>\n",
       "      <th>yr_renovated</th>\n",
       "      <td>800.618478</td>\n",
       "      <td>978.006312</td>\n",
       "    </tr>\n",
       "  </tbody>\n",
       "</table>\n",
       "</div>"
      ],
      "text/plain": [
       "                       mean           std\n",
       "bedrooms           3.396467      0.911488\n",
       "bathrooms          2.162840      0.784678\n",
       "sqft_living     2142.219837    966.077603\n",
       "sqft_lot       15220.664402  37480.055461\n",
       "floors             1.515353      0.534456\n",
       "waterfront         0.007880      0.088433\n",
       "view               0.235326      0.768751\n",
       "condition          3.447554      0.671697\n",
       "sqft_above      1836.182065    869.016072\n",
       "sqft_basement    306.037772    461.328536\n",
       "yr_built        1971.001902     29.667987\n",
       "yr_renovated     800.618478    978.006312"
      ]
     },
     "execution_count": 903,
     "metadata": {},
     "output_type": "execute_result"
    }
   ],
   "source": [
    "train_df.describe().transpose()[['mean', 'std']]"
   ]
  },
  {
   "cell_type": "markdown",
   "id": "98c2232f",
   "metadata": {},
   "source": [
    "In order to get better results, we should normalize the data. With Tensorflow, we don't need to do this beforehand. We can have the model do it during training using a Normalization layer, adapted to the training features."
   ]
  },
  {
   "cell_type": "code",
   "execution_count": 904,
   "id": "91ea58b1",
   "metadata": {},
   "outputs": [],
   "source": [
    "normalizer = tf.keras.layers.Normalization(axis=-1)"
   ]
  },
  {
   "cell_type": "code",
   "execution_count": 905,
   "id": "e0eaf13b",
   "metadata": {},
   "outputs": [],
   "source": [
    "normalizer.adapt(np.array(train_features))"
   ]
  },
  {
   "cell_type": "markdown",
   "id": "f55beea0",
   "metadata": {},
   "source": [
    "We can see how this normalizer works with examples:"
   ]
  },
  {
   "cell_type": "code",
   "execution_count": 906,
   "id": "21a0dfe3",
   "metadata": {},
   "outputs": [
    {
     "name": "stdout",
     "output_type": "stream",
     "text": [
      "[[5.5267475e+05 3.3964672e+00 2.1628401e+00 2.1422190e+03 1.5220662e+04\n",
      "  1.5153531e+00 7.8804353e-03 2.3532604e-01 3.4475543e+00 1.8361820e+03\n",
      "  3.0603769e+02 1.9710018e+03 8.0061859e+02]]\n"
     ]
    }
   ],
   "source": [
    "print(normalizer.mean.numpy())"
   ]
  },
  {
   "cell_type": "code",
   "execution_count": 907,
   "id": "d1f627f7",
   "metadata": {},
   "outputs": [
    {
     "name": "stdout",
     "output_type": "stream",
     "text": [
      "First example: [[289000.       3.       2.5   2090.    4700.       2.       0.       0.\n",
      "       3.    2090.       0.    2002.       0. ]]\n",
      "\n",
      "Normalized: [[-0.44 -0.44  0.43 -0.05 -0.28  0.91 -0.09 -0.31 -0.67  0.29 -0.66  1.04\n",
      "  -0.82]]\n"
     ]
    }
   ],
   "source": [
    "first = np.array(train_features[:1])\n",
    "\n",
    "with np.printoptions(precision=2, suppress=True):\n",
    "  print('First example:', first)\n",
    "  print()\n",
    "  print('Normalized:', normalizer(first).numpy())"
   ]
  },
  {
   "cell_type": "markdown",
   "id": "f38465f9",
   "metadata": {},
   "source": [
    "Now we can define the Sequential model. We first put the normalizer so that way the training data is normalized. We then have four Dense layers with 512 filters, ReLU activated, with L2 Regularization (to help overfitting issues I encountered earlier). We then add a standard Dense layer with one filter to finish off the model."
   ]
  },
  {
   "cell_type": "code",
   "execution_count": 908,
   "id": "2ff3fbb0",
   "metadata": {},
   "outputs": [],
   "source": [
    "model = tf.keras.Sequential([\n",
    "    normalizer,\n",
    "    tf.keras.layers.Dense(512, activation='relu', kernel_regularizer=tf.keras.regularizers.l2(0.001)),\n",
    "    tf.keras.layers.Dense(512, activation='relu', kernel_regularizer=tf.keras.regularizers.l2(0.001)),\n",
    "    tf.keras.layers.Dense(512, activation='relu', kernel_regularizer=tf.keras.regularizers.l2(0.001)),\n",
    "    tf.keras.layers.Dense(512, activation='relu', kernel_regularizer=tf.keras.regularizers.l2(0.001)),\n",
    "    tf.keras.layers.Dense(1)\n",
    "])"
   ]
  },
  {
   "cell_type": "markdown",
   "id": "df0e68cd",
   "metadata": {},
   "source": [
    "We compile the model with the Adam optimizer of learning rate 0.001. The loss funciton we are using is mean absolute error, since it is more resistant to outliers compared to mean square error (MSE)."
   ]
  },
  {
   "cell_type": "code",
   "execution_count": 909,
   "id": "f5b0bc02",
   "metadata": {},
   "outputs": [],
   "source": [
    "model.compile(\n",
    "    optimizer=tf.keras.optimizers.Adam(learning_rate=0.001),\n",
    "    loss='mean_absolute_error'\n",
    ")"
   ]
  },
  {
   "cell_type": "code",
   "execution_count": 910,
   "id": "9a4db2f2",
   "metadata": {},
   "outputs": [
    {
     "name": "stdout",
     "output_type": "stream",
     "text": [
      "Model: \"sequential_38\"\n",
      "_________________________________________________________________\n",
      " Layer (type)                Output Shape              Param #   \n",
      "=================================================================\n",
      " normalization_38 (Normaliza  (None, 13)               27        \n",
      " tion)                                                           \n",
      "                                                                 \n",
      " dense_121 (Dense)           (None, 512)               7168      \n",
      "                                                                 \n",
      " dense_122 (Dense)           (None, 512)               262656    \n",
      "                                                                 \n",
      " dense_123 (Dense)           (None, 512)               262656    \n",
      "                                                                 \n",
      " dense_124 (Dense)           (None, 512)               262656    \n",
      "                                                                 \n",
      " dense_125 (Dense)           (None, 1)                 513       \n",
      "                                                                 \n",
      "=================================================================\n",
      "Total params: 795,676\n",
      "Trainable params: 795,649\n",
      "Non-trainable params: 27\n",
      "_________________________________________________________________\n"
     ]
    }
   ],
   "source": [
    "model.summary()"
   ]
  },
  {
   "cell_type": "markdown",
   "id": "314684f5",
   "metadata": {},
   "source": [
    "Fit the model to the training features and labels, with a 20% validation split over 100 epochs."
   ]
  },
  {
   "cell_type": "code",
   "execution_count": 911,
   "id": "dd799646",
   "metadata": {},
   "outputs": [
    {
     "name": "stderr",
     "output_type": "stream",
     "text": [
      "/Library/Frameworks/Python.framework/Versions/3.8/lib/python3.8/site-packages/keras/engine/data_adapter.py:1700: FutureWarning: The behavior of `series[i:j]` with an integer-dtype index is deprecated. In a future version, this will be treated as *label-based* indexing, consistent with e.g. `series[i]` lookups. To retain the old behavior, use `series.iloc[i:j]`. To get the future behavior, use `series.loc[i:j]`.\n",
      "  return t[start:end]\n"
     ]
    },
    {
     "name": "stdout",
     "output_type": "stream",
     "text": [
      "CPU times: user 3min 25s, sys: 58.5 s, total: 4min 24s\n",
      "Wall time: 55.3 s\n"
     ]
    }
   ],
   "source": [
    "%%time\n",
    "history = model.fit(\n",
    "    train_features, train_labels, validation_split=0.2, epochs=100, verbose=0\n",
    ")"
   ]
  },
  {
   "cell_type": "markdown",
   "id": "b4b3fd4b",
   "metadata": {},
   "source": [
    "Plot the loss vs epochs graph."
   ]
  },
  {
   "cell_type": "code",
   "execution_count": 912,
   "id": "b578c1e1",
   "metadata": {},
   "outputs": [
    {
     "data": {
      "image/png": "[encoded data removed]",
      "text/plain": [
       "<Figure size 432x288 with 1 Axes>"
      ]
     },
     "metadata": {
      "needs_background": "light"
     },
     "output_type": "display_data"
    }
   ],
   "source": [
    "plt.plot(history.history['loss'], label='loss')\n",
    "plt.plot(history.history['val_loss'], label='val_loss')\n",
    "plt.xlabel('Epoch')\n",
    "plt.ylabel('Error [Price]')\n",
    "plt.legend()\n",
    "plt.grid(True)"
   ]
  },
  {
   "cell_type": "markdown",
   "id": "b857116d",
   "metadata": {},
   "source": [
    "The loss graphs look good. In fact, 100 epochs may have been too much, and the model could likely perform well without needed so many epochs. We can now make predictions on the test features, and compare to the actual test labels."
   ]
  },
  {
   "cell_type": "code",
   "execution_count": 913,
   "id": "a403a9fc",
   "metadata": {},
   "outputs": [
    {
     "name": "stdout",
     "output_type": "stream",
     "text": [
      "29/29 [==============================] - 0s 2ms/step\n"
     ]
    },
    {
     "data": {
      "text/plain": [
       "Text(0, 0.5, 'Predictions [Price]')"
      ]
     },
     "execution_count": 913,
     "metadata": {},
     "output_type": "execute_result"
    },
    {
     "data": {
      "image/png": "[encoded data removed]",
      "text/plain": [
       "<Figure size 432x288 with 1 Axes>"
      ]
     },
     "metadata": {
      "needs_background": "light"
     },
     "output_type": "display_data"
    }
   ],
   "source": [
    "test_predictions = model.predict(test_features).flatten()\n",
    "\n",
    "a = plt.axes(aspect='equal')\n",
    "plt.scatter(test_labels, test_predictions)\n",
    "plt.xlabel('True Values [Price]')\n",
    "plt.ylabel('Predictions [Price]')"
   ]
  },
  {
   "cell_type": "code",
   "execution_count": 914,
   "id": "faba0dae",
   "metadata": {},
   "outputs": [
    {
     "data": {
      "text/plain": [
       "0.9967280624166092"
      ]
     },
     "execution_count": 914,
     "metadata": {},
     "output_type": "execute_result"
    }
   ],
   "source": [
    "from sklearn.metrics import r2_score\n",
    "\n",
    "r2_score(test_labels, test_predictions)"
   ]
  },
  {
   "cell_type": "code",
   "execution_count": 917,
   "id": "fd06f330",
   "metadata": {},
   "outputs": [
    {
     "data": {
      "text/plain": [
       "[<matplotlib.lines.Line2D at 0x7ff734cc2f10>]"
      ]
     },
     "execution_count": 917,
     "metadata": {},
     "output_type": "execute_result"
    },
    {
     "data": {
      "image/png": "[encoded data removed]",
      "text/plain": [
       "<Figure size 432x288 with 1 Axes>"
      ]
     },
     "metadata": {
      "needs_background": "light"
     },
     "output_type": "display_data"
    }
   ],
   "source": [
    "a = plt.axes(aspect='equal')\n",
    "plt.scatter(test_labels, test_predictions)\n",
    "plt.xlabel('True Values [Price]')\n",
    "plt.ylabel('Predictions [Price]')\n",
    "coef = np.polyfit(test_labels, test_predictions, 1)\n",
    "fn = np.poly1d(coef)\n",
    "plt.plot(test_labels, fn(test_labels), 'r')"
   ]
  },
  {
   "cell_type": "markdown",
   "id": "a47fa404",
   "metadata": {},
   "source": [
    "With an r^2 value of `0.9967`, this model performs very well with no location data. It seems that the model does well with values under `4e6`, but the large outlier near `7e6` is not predicted super accurately. However, compared to the rest of the test data, this one data point being slightly inaccurate is fine. "
   ]
  },
  {
   "cell_type": "markdown",
   "id": "ffb0a1d5",
   "metadata": {},
   "source": [
    "#### Acknowledgements\n",
    "\n",
    "<sup>1</sup>Shree. (2018). House Price Prediction. Kaggle. https://www.kaggle.com/datasets/shree1992/housedata\n",
    "\n",
    "Pandas: https://pandas.pydata.org/docs/ |\n",
    "Matplotlib: https://matplotlib.org |\n",
    "Numpy: https://numpy.org |\n",
    "Tensorflow: https://www.tensorflow.org/"
   ]
  },
  {
   "cell_type": "markdown",
   "id": "70fb8ceb",
   "metadata": {},
   "source": [
    "<sub>This project is licensed by the GNU AGPLv3 License</sub>"
   ]
  }
 ],
 "metadata": {
  "kernelspec": {
   "display_name": "Python 3 (ipykernel)",
   "language": "python",
   "name": "python3"
  },
  "language_info": {
   "codemirror_mode": {
    "name": "ipython",
    "version": 3
   },
   "file_extension": ".py",
   "mimetype": "text/x-python",
   "name": "python",
   "nbconvert_exporter": "python",
   "pygments_lexer": "ipython3",
   "version": "3.8.5"
  }
 },
 "nbformat": 4,
 "nbformat_minor": 5
}
